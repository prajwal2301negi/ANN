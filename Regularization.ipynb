{
 "cells": [
  {
   "cell_type": "markdown",
   "id": "f48daa77-96d3-4f27-a156-a748e6903839",
   "metadata": {},
   "source": [
    "# Regularization"
   ]
  },
  {
   "cell_type": "code",
   "execution_count": null,
   "id": "06ef3ff3-86f4-4c30-ae67-9f426bca2434",
   "metadata": {},
   "outputs": [],
   "source": [
    "# Use to reduce overfitting"
   ]
  },
  {
   "cell_type": "code",
   "execution_count": null,
   "id": "02594c68-afa0-4eac-a8f9-94dcbac1e82c",
   "metadata": {},
   "outputs": [],
   "source": [
    "model = Sequential()\n",
    "model.add(Dense(128, input_dim = 2, activation = 'relu', kernel_regularization = tensorflow.keras.regularizers.l2(0.03)))\n",
    "model.add(Dense(128, activation = 'relu', kernel_regularization = tensorflow.keras.regularizers.l2(0.03)))\n",
    "model.add(Dense(1, activation = 'sigmoid'))\n",
    "\n",
    "model.summary()"
   ]
  },
  {
   "cell_type": "code",
   "execution_count": null,
   "id": "6c8e2963-410d-4fd4-bda1-46a362dd19c7",
   "metadata": {},
   "outputs": [],
   "source": [
    "adam = Adam(learning_rate = 0.01)\n",
    "model.compile(loss = 'binary_crossentropy', optimizer = adam, metrics = ['accuracy'])\n",
    "\n",
    "history = model.fit(X,y, epochs = 2000, validation_split = 0.2, verbose = 0) # A lot of epochs cause overfitting of data"
   ]
  }
 ],
 "metadata": {
  "kernelspec": {
   "display_name": "Python 3 (ipykernel)",
   "language": "python",
   "name": "python3"
  },
  "language_info": {
   "codemirror_mode": {
    "name": "ipython",
    "version": 3
   },
   "file_extension": ".py",
   "mimetype": "text/x-python",
   "name": "python",
   "nbconvert_exporter": "python",
   "pygments_lexer": "ipython3",
   "version": "3.12.4"
  }
 },
 "nbformat": 4,
 "nbformat_minor": 5
}
