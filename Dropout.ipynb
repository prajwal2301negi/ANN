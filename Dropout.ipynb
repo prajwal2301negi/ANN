{
 "cells": [
  {
   "cell_type": "code",
   "execution_count": 1,
   "id": "e9058209-2605-4626-aba6-fd4fd5a61760",
   "metadata": {},
   "outputs": [],
   "source": [
    "import numpy as np\n",
    "import pandas as pd\n",
    "import matplotlib.pyplot as plt\n",
    "import tensorflow as tf\n",
    "from tensorflow.keras import Sequential\n",
    "from tensorflow.keras.layers import Dense, Dropout"
   ]
  },
  {
   "cell_type": "code",
   "execution_count": 2,
   "id": "9d866c61-d935-4bea-a746-73d6b5842e85",
   "metadata": {},
   "outputs": [],
   "source": [
    "from sklearn.model_selection import train_test_split"
   ]
  },
  {
   "cell_type": "markdown",
   "id": "4b111f4c-cbe9-4ffc-9c24-35d6dcc0d0fb",
   "metadata": {},
   "source": [
    "# Regression"
   ]
  },
  {
   "cell_type": "code",
   "execution_count": null,
   "id": "9b6ce901-fe65-460a-b21a-0dbcbc16b0ec",
   "metadata": {},
   "outputs": [],
   "source": [
    "model = Sequential()\n",
    "\n",
    "model.add(Dense(128, input_dim = 1, activation = 'relu'))\n",
    "model.add(Dropout(0.5))\n",
    "model.add(Dense(128, activation = 'relu'))\n",
    "model.add(Dropout(0.5))\n",
    "model.add(Dense(1, activation = 'relu'))\n",
    "\n",
    "adam = Adam(learning_rate = 0.01)\n",
    "model.compile(loss = 'mse', optimizer = adam, metrics = ['mse'])\n",
    "\n",
    "history = model.fit(X_train, y_train, epochs = 500, validation_data = (X_test, y_test), verbose = False)"
   ]
  },
  {
   "cell_type": "markdown",
   "id": "8448d811-85ac-4e6c-8508-657a00eb7952",
   "metadata": {},
   "source": [
    "# Classification"
   ]
  },
  {
   "cell_type": "code",
   "execution_count": null,
   "id": "dd35a8ea-3e06-4c18-9013-fa3328b07a37",
   "metadata": {},
   "outputs": [],
   "source": [
    "model = Sequential()\n",
    "\n",
    "model.add(Dense(128, input_dim = 1, activation = 'relu'))\n",
    "model.add(Dropout(0.5))\n",
    "model.add(Dense(128, activation = 'relu'))\n",
    "model.add(Dropout(0.5))\n",
    "model.add(Dense(1, activation = 'sigmoid'))  # using sigmoid as problem of binary classification\n",
    "\n",
    "adam = Adam(learning_rate = 0.01)\n",
    "model.compile(loss = 'binary_crossentropy', optimizer = adam, metrics = ['accuracy'])\n",
    "\n",
    "history = model.fit(X_train, y_train, epochs = 500, validation_split = 0.2, verbose = 0)"
   ]
  }
 ],
 "metadata": {
  "kernelspec": {
   "display_name": "Python 3 (ipykernel)",
   "language": "python",
   "name": "python3"
  },
  "language_info": {
   "codemirror_mode": {
    "name": "ipython",
    "version": 3
   },
   "file_extension": ".py",
   "mimetype": "text/x-python",
   "name": "python",
   "nbconvert_exporter": "python",
   "pygments_lexer": "ipython3",
   "version": "3.12.4"
  }
 },
 "nbformat": 4,
 "nbformat_minor": 5
}
