{
 "cells": [
  {
   "cell_type": "markdown",
   "id": "fa393877-29b5-4073-b391-16e958773e25",
   "metadata": {},
   "source": [
    "# Batch Normalization"
   ]
  },
  {
   "cell_type": "code",
   "execution_count": null,
   "id": "72ef3a1f-4f63-46ed-8772-bc65bba36c8e",
   "metadata": {},
   "outputs": [],
   "source": [
    "model = Sequential()\n",
    "\n",
    "model.add(Dense(3, activation = 'relu', input_dim = 2))\n",
    "model.add(BatchNormalisation())   # Batch Normalization has non trainable paramteres\n",
    "model.add(Dense(2, activation = 'relu'))\n",
    "model.add(BatchNormalisation())\n",
    "model.add(Dense(1, activation = 'sigmoid'))\n",
    "\n",
    "model.summary()"
   ]
  },
  {
   "cell_type": "code",
   "execution_count": null,
   "id": "1d725815-5b70-4a82-8030-ba12b17f9bfe",
   "metadata": {},
   "outputs": [],
   "source": [
    "# Less no of epochs required to achieve a good accuracy"
   ]
  }
 ],
 "metadata": {
  "kernelspec": {
   "display_name": "Python 3 (ipykernel)",
   "language": "python",
   "name": "python3"
  },
  "language_info": {
   "codemirror_mode": {
    "name": "ipython",
    "version": 3
   },
   "file_extension": ".py",
   "mimetype": "text/x-python",
   "name": "python",
   "nbconvert_exporter": "python",
   "pygments_lexer": "ipython3",
   "version": "3.12.4"
  }
 },
 "nbformat": 4,
 "nbformat_minor": 5
}
